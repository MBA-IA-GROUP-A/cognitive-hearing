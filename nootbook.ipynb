{
 "cells": [
  {
   "attachments": {},
   "cell_type": "markdown",
   "metadata": {},
   "source": [
    "# Enunciado\n",
    "\n",
    "Gerar um texto, em português, como se fosse um atendente virtual de uma imobiliária.\n",
    "\n",
    "Através da sintetização do texto, a AV precisa dizer ao cliente que está “ligando” o que ele pode pedir. \n",
    "\n",
    "São quatro áreas obrigatórias:\n",
    "- Vendas\n",
    "- Aluguel\n",
    "- Administrativo\n",
    "- Financeiro\n",
    "\n",
    "Com o microfone, a pessoa responde uma dessas áreas e através de alguma das funções de reconhecimento de áudio, a área deverá ser identificada e, novamente por sintetização de voz, deverá gerar um áudio indicando que a ligação será transferida para a área correspondente. Por exemplo: “Ótimo, vou transferir você para um de nossos corretores de vendas.”\n",
    "\n",
    "Deve estar em um loop. E deve haver uma palavra chave pra encerrar o loop. \n",
    "\n",
    "Entregar:\n",
    "- Texto descrevendo o problema e a solução desenvolvida\n",
    "- Código em Python\n",
    "- Link para vídeo demonstrando a execução do programa"
   ]
  },
  {
   "attachments": {},
   "cell_type": "markdown",
   "metadata": {},
   "source": [
    "## Texto descrevendo o problema\n"
   ]
  },
  {
   "attachments": {},
   "cell_type": "markdown",
   "metadata": {},
   "source": [
    "Resposta:"
   ]
  },
  {
   "attachments": {},
   "cell_type": "markdown",
   "metadata": {},
   "source": [
    "## Código"
   ]
  },
  {
   "cell_type": "code",
   "execution_count": 1,
   "metadata": {},
   "outputs": [
    {
     "name": "stderr",
     "output_type": "stream",
     "text": [
      "C:\\Users\\vinix\\AppData\\Roaming\\Python\\Python39\\site-packages\\pydub\\utils.py:170: RuntimeWarning: Couldn't find ffmpeg or avconv - defaulting to ffmpeg, but may not work\n",
      "  warn(\"Couldn't find ffmpeg or avconv - defaulting to ffmpeg, but may not work\", RuntimeWarning)\n"
     ]
    }
   ],
   "source": [
    "from IPython.display import Audio, display\n",
    "import numpy as np\n",
    "import speech_recognition as sr\n",
    "from gtts import lang, gTTS\n",
    "from pydub import AudioSegment\n",
    "from scipy.io.wavfile import write\n",
    "import pyaudio\n",
    "import wave\n",
    "import io\n",
    "import ffmpeg\n",
    "from time import sleep\n",
    "import time\n",
    "import os\n",
    "from playsound import playsound"
   ]
  },
  {
   "attachments": {},
   "cell_type": "markdown",
   "metadata": {},
   "source": [
    "#### Mensagens"
   ]
  },
  {
   "cell_type": "code",
   "execution_count": 2,
   "metadata": {},
   "outputs": [],
   "source": [
    "HELLO = \"Olá, sou o robô falante. Com qual área gostaria de falar? Vendas, Aluguel, Administrativo ou Financeiro\"\n",
    "NOT_UNDERSTAND = \"Opção inválida. Por favor, escolha uma das opções: Vendas, Aluguel, Administrativo ou Financeiro\" \n",
    "SALES = \"Ótimo, vou transferir você para um de nossos corretores de vendas\"\n",
    "RENT = \"Ótimo, vou transferir você para um de nossos corretores de aluguel\"\n",
    "ADMIN = \"Ótimo, vou transferir você para o nosso departamento Administraivo\"\n",
    "FINANCE = \"Ótimo, vou transferir você para o nosso departamento Financeiro\"\n",
    "THANKS = \"Obrigado por utilizar o robô falante. Até mais!\""
   ]
  },
  {
   "attachments": {},
   "cell_type": "markdown",
   "metadata": {},
   "source": [
    "#### Funções auxiliares"
   ]
  },
  {
   "cell_type": "code",
   "execution_count": 10,
   "metadata": {},
   "outputs": [],
   "source": [
    "def start_recording(seconds = 5, filename = \"output.wav\"):\n",
    "  chunk = 1024\n",
    "  sample_format = pyaudio.paInt16\n",
    "  fs = 44100\n",
    "  channels = 2\n",
    "\n",
    "  p = pyaudio.PyAudio()\n",
    "\n",
    "  print('Recording, speak now...')\n",
    "\n",
    "  stream = p.open(\n",
    "    format=sample_format,\n",
    "    channels=channels,\n",
    "    rate=fs,\n",
    "    frames_per_buffer=chunk,\n",
    "    input=True\n",
    "  )\n",
    "\n",
    "  frames = []\n",
    "  for i in range(0, int(fs / chunk * seconds)):\n",
    "    data = stream.read(chunk)\n",
    "    frames.append(data)\n",
    "\n",
    "  stream.stop_stream()\n",
    "  stream.close()\n",
    "  p.terminate()\n",
    "\n",
    "  print('Finished recording')\n",
    "\n",
    "  wf = wave.open(filename, 'wb')\n",
    "  wf.setnchannels(channels)\n",
    "  wf.setsampwidth(p.get_sample_size(sample_format))\n",
    "  wf.setframerate(fs)\n",
    "  wf.writeframes(b''.join(frames))\n",
    "  wf.close()\n",
    "\n",
    "def speak(text, lang = 'pt', tld = 'com.br', filename = 'output.mp3'):\n",
    "  if os.path.exists(filename):\n",
    "    os.remove(filename) \n",
    "  tts = gTTS(text=text, lang=lang, tld=tld)\n",
    "  tts.save(filename)\n",
    "  playsound(filename)\n",
    "\n",
    "def stt_google(filename, lang = 'pt-BR'):\n",
    "  recog = sr.Recognizer()\n",
    "  os.remove(filename)\n",
    "  try:\n",
    "    with sr.AudioFile(filename) as source:\n",
    "      audio = recog.record(source)\n",
    "      return recog.recognize_google(audio,language=lang)\n",
    "  except:\n",
    "    return ''\n",
    "\n",
    "def exit_loop(transcript):\n",
    "  if 'obrigad' in transcript.lower() or 'tchau' in transcript.lower():\n",
    "    return True\n",
    "  else:\n",
    "    return False"
   ]
  },
  {
   "cell_type": "code",
   "execution_count": 12,
   "metadata": {},
   "outputs": [
    {
     "ename": "PermissionError",
     "evalue": "[WinError 5] Access is denied: 'output.mp3'",
     "output_type": "error",
     "traceback": [
      "\u001b[1;31m---------------------------------------------------------------------------\u001b[0m",
      "\u001b[1;31mPermissionError\u001b[0m                           Traceback (most recent call last)",
      "Cell \u001b[1;32mIn[12], line 1\u001b[0m\n\u001b[1;32m----> 1\u001b[0m speak(HELLO)\n",
      "Cell \u001b[1;32mIn[10], line 39\u001b[0m, in \u001b[0;36mspeak\u001b[1;34m(text, lang, tld, filename)\u001b[0m\n\u001b[0;32m     37\u001b[0m \u001b[39mdef\u001b[39;00m \u001b[39mspeak\u001b[39m(text, lang \u001b[39m=\u001b[39m \u001b[39m'\u001b[39m\u001b[39mpt\u001b[39m\u001b[39m'\u001b[39m, tld \u001b[39m=\u001b[39m \u001b[39m'\u001b[39m\u001b[39mcom.br\u001b[39m\u001b[39m'\u001b[39m, filename \u001b[39m=\u001b[39m \u001b[39m'\u001b[39m\u001b[39moutput.mp3\u001b[39m\u001b[39m'\u001b[39m):\n\u001b[0;32m     38\u001b[0m   \u001b[39mif\u001b[39;00m os\u001b[39m.\u001b[39mpath\u001b[39m.\u001b[39mexists(filename):\n\u001b[1;32m---> 39\u001b[0m     os\u001b[39m.\u001b[39;49mremove(filename) \n\u001b[0;32m     40\u001b[0m   tts \u001b[39m=\u001b[39m gTTS(text\u001b[39m=\u001b[39mtext, lang\u001b[39m=\u001b[39mlang, tld\u001b[39m=\u001b[39mtld)\n\u001b[0;32m     41\u001b[0m   \u001b[39m# tts.save(filename)\u001b[39;00m\n",
      "\u001b[1;31mPermissionError\u001b[0m: [WinError 5] Access is denied: 'output.mp3'"
     ]
    }
   ],
   "source": [
    "speak(HELLO)"
   ]
  },
  {
   "attachments": {},
   "cell_type": "markdown",
   "metadata": {},
   "source": [
    "#### Lógica de funcionamento"
   ]
  },
  {
   "cell_type": "code",
   "execution_count": 6,
   "metadata": {},
   "outputs": [
    {
     "ename": "PermissionError",
     "evalue": "[Errno 13] Permission denied: 'output.mp3'",
     "output_type": "error",
     "traceback": [
      "\u001b[1;31m---------------------------------------------------------------------------\u001b[0m",
      "\u001b[1;31mPermissionError\u001b[0m                           Traceback (most recent call last)",
      "Cell \u001b[1;32mIn[6], line 1\u001b[0m\n\u001b[1;32m----> 1\u001b[0m speak(HELLO)\n\u001b[0;32m      2\u001b[0m sleep(\u001b[39m11\u001b[39m)\n\u001b[0;32m      3\u001b[0m transcript \u001b[39m=\u001b[39m \u001b[39m'\u001b[39m\u001b[39m'\u001b[39m\n",
      "Cell \u001b[1;32mIn[4], line 39\u001b[0m, in \u001b[0;36mspeak\u001b[1;34m(text, lang, tld)\u001b[0m\n\u001b[0;32m     37\u001b[0m \u001b[39mdef\u001b[39;00m \u001b[39mspeak\u001b[39m(text, lang \u001b[39m=\u001b[39m \u001b[39m'\u001b[39m\u001b[39mpt\u001b[39m\u001b[39m'\u001b[39m, tld \u001b[39m=\u001b[39m \u001b[39m'\u001b[39m\u001b[39mcom.br\u001b[39m\u001b[39m'\u001b[39m):\n\u001b[0;32m     38\u001b[0m   audio \u001b[39m=\u001b[39m gTTS(text\u001b[39m=\u001b[39mtext, lang\u001b[39m=\u001b[39mlang, tld\u001b[39m=\u001b[39mtld)\n\u001b[1;32m---> 39\u001b[0m   audio\u001b[39m.\u001b[39;49msave(\u001b[39m'\u001b[39;49m\u001b[39moutput.mp3\u001b[39;49m\u001b[39m'\u001b[39;49m)\n\u001b[0;32m     40\u001b[0m   playsound(\u001b[39m'\u001b[39m\u001b[39moutput.mp3\u001b[39m\u001b[39m'\u001b[39m, block\u001b[39m=\u001b[39m\u001b[39mFalse\u001b[39;00m)\n",
      "File \u001b[1;32m~\\AppData\\Roaming\\Python\\Python39\\site-packages\\gtts\\tts.py:324\u001b[0m, in \u001b[0;36mgTTS.save\u001b[1;34m(self, savefile)\u001b[0m\n\u001b[0;32m    314\u001b[0m \u001b[39mdef\u001b[39;00m \u001b[39msave\u001b[39m(\u001b[39mself\u001b[39m, savefile):\n\u001b[0;32m    315\u001b[0m \u001b[39m    \u001b[39m\u001b[39m\"\"\"Do the TTS API request and write result to file.\u001b[39;00m\n\u001b[0;32m    316\u001b[0m \n\u001b[0;32m    317\u001b[0m \u001b[39m    Args:\u001b[39;00m\n\u001b[1;32m   (...)\u001b[0m\n\u001b[0;32m    322\u001b[0m \n\u001b[0;32m    323\u001b[0m \u001b[39m    \"\"\"\u001b[39;00m\n\u001b[1;32m--> 324\u001b[0m     \u001b[39mwith\u001b[39;00m \u001b[39mopen\u001b[39;49m(\u001b[39mstr\u001b[39;49m(savefile), \u001b[39m\"\u001b[39;49m\u001b[39mwb\u001b[39;49m\u001b[39m\"\u001b[39;49m) \u001b[39mas\u001b[39;00m f:\n\u001b[0;32m    325\u001b[0m         \u001b[39mself\u001b[39m\u001b[39m.\u001b[39mwrite_to_fp(f)\n\u001b[0;32m    326\u001b[0m         log\u001b[39m.\u001b[39mdebug(\u001b[39m\"\u001b[39m\u001b[39mSaved to \u001b[39m\u001b[39m%s\u001b[39;00m\u001b[39m\"\u001b[39m, savefile)\n",
      "\u001b[1;31mPermissionError\u001b[0m: [Errno 13] Permission denied: 'output.mp3'"
     ]
    }
   ],
   "source": [
    "speak(HELLO)\n",
    "sleep(11)\n",
    "transcript = ''\n",
    "while (not exit_loop(transcript)):\n",
    "  start_recording()\n",
    "  transcript = stt_google('input.wav')\n",
    "  if 'vend' in transcript.lower():\n",
    "    speak(SALES)\n",
    "    sleep(8)\n",
    "  elif 'administrativ' in transcript.lower():\n",
    "    speak(ADMIN)\n",
    "    sleep(8)\n",
    "  elif 'aluguel' in transcript.lower():\n",
    "    speak(RENT)\n",
    "    sleep(8)\n",
    "  elif 'financeir' in transcript.lower():\n",
    "    speak(FINANCE)\n",
    "    sleep(8)\n",
    "  elif not exit_loop(transcript):\n",
    "    speak(NOT_UNDERSTAND)\n",
    "    sleep(13)\n",
    "\n",
    "speak(THANKS)"
   ]
  },
  {
   "attachments": {},
   "cell_type": "markdown",
   "metadata": {},
   "source": [
    "## Vídeo"
   ]
  },
  {
   "attachments": {},
   "cell_type": "markdown",
   "metadata": {},
   "source": [
    "Link:"
   ]
  }
 ],
 "metadata": {
  "kernelspec": {
   "display_name": "audio",
   "language": "python",
   "name": "python3"
  },
  "language_info": {
   "codemirror_mode": {
    "name": "ipython",
    "version": 3
   },
   "file_extension": ".py",
   "mimetype": "text/x-python",
   "name": "python",
   "nbconvert_exporter": "python",
   "pygments_lexer": "ipython3",
   "version": "3.9.0"
  },
  "orig_nbformat": 4,
  "vscode": {
   "interpreter": {
    "hash": "985115132a0fd923207a57e94ab548d5555671933f8b6207dd0ad3508d1d38a7"
   }
  }
 },
 "nbformat": 4,
 "nbformat_minor": 2
}
