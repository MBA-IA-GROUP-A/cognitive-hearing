{
 "cells": [
  {
   "attachments": {},
   "cell_type": "markdown",
   "metadata": {},
   "source": [
    "# Enunciado\n",
    "\n",
    "Gerar um texto, em português, como se fosse um atendente virtual de uma imobiliária.\n",
    "\n",
    "Através da sintetização do texto, a AV precisa dizer ao cliente que está “ligando” o que ele pode pedir. \n",
    "\n",
    "São quatro áreas obrigatórias:\n",
    "- Vendas\n",
    "- Aluguel\n",
    "- Administrativo\n",
    "- Financeiro\n",
    "\n",
    "Com o microfone, a pessoa responde uma dessas áreas e através de alguma das funções de reconhecimento de áudio, a área deverá ser identificada e, novamente por sintetização de voz, deverá gerar um áudio indicando que a ligação será transferida para a área correspondente. Por exemplo: “Ótimo, vou transferir você para um de nossos corretores de vendas.”\n",
    "\n",
    "Deve estar em um loop. E deve haver uma palavra chave pra encerrar o loop. \n",
    "\n",
    "Entregar:\n",
    "- Texto descrevendo o problema e a solução desenvolvida\n",
    "- Código em Python\n",
    "- Link para vídeo demonstrando a execução do programa"
   ]
  },
  {
   "attachments": {},
   "cell_type": "markdown",
   "metadata": {},
   "source": [
    "## Texto descrevendo o problema e a solução desenvolvida\n"
   ]
  },
  {
   "attachments": {},
   "cell_type": "markdown",
   "metadata": {},
   "source": [
    "Resposta:\n",
    "\n",
    "Primeiro definimos as frases que o atendente virtual precisa falar para o atendimento. \n",
    "\n",
    "Depois definimos algumas funções auxiliares e por ultimo montamos o fluxo.\n",
    "\n",
    "Enquanto o usuário não falar a palavra \"Tchau\" ou \"Obrigado(a)\" o fluxo ficara em loop esperando por uma das palavras:\n",
    "\n",
    "- Vendas\n",
    "- Aluguel\n",
    "- Administrativo\n",
    "- Financeiro\n",
    "\n",
    "Se nada for dito ou a palavra dita não for reconhecida, o fluxo ira responder com uma mensagem de opção inválida.\n",
    "\n",
    "Utilizamos a bibliotca do Google para fazer a voz sintetizada do atendante. Sobre o usuário, utilizamos a biblioteca PyAudio para gravar o som em conjunto com a biblioteca do Google para transcrever o audio.\n"
   ]
  },
  {
   "attachments": {},
   "cell_type": "markdown",
   "metadata": {},
   "source": [
    "## Código em Python"
   ]
  },
  {
   "cell_type": "code",
   "execution_count": 1,
   "metadata": {},
   "outputs": [
    {
     "name": "stderr",
     "output_type": "stream",
     "text": [
      "C:\\Users\\vinix\\AppData\\Roaming\\Python\\Python39\\site-packages\\pydub\\utils.py:170: RuntimeWarning: Couldn't find ffmpeg or avconv - defaulting to ffmpeg, but may not work\n",
      "  warn(\"Couldn't find ffmpeg or avconv - defaulting to ffmpeg, but may not work\", RuntimeWarning)\n"
     ]
    }
   ],
   "source": [
    "from IPython.display import Audio, display\n",
    "import numpy as np\n",
    "import speech_recognition as sr\n",
    "from gtts import lang, gTTS\n",
    "from pydub import AudioSegment\n",
    "from scipy.io.wavfile import write\n",
    "import pyaudio\n",
    "import wave\n",
    "import io\n",
    "import ffmpeg\n",
    "from time import sleep\n",
    "import time\n",
    "import os\n",
    "from preferredsoundplayer import soundplay, stopsound, getIsPlaying"
   ]
  },
  {
   "attachments": {},
   "cell_type": "markdown",
   "metadata": {},
   "source": [
    "#### Mensagens"
   ]
  },
  {
   "cell_type": "code",
   "execution_count": 2,
   "metadata": {},
   "outputs": [],
   "source": [
    "HELLO = \"Olá, sou o robô falante da imobiliária Casas. Com qual área gostaria de falar? Administrativo, Aluguel, Financeiro ou Vendas\"\n",
    "HELLO2 = \"Olá novamente. Com qual área gostaria de falar? Administrativo, Aluguel, Financeiro, Vendas ou diga 'sair' para encerrar a conversa\"\n",
    "NOT_UNDERSTAND = \"Opção inválida. Por favor, escolha uma das opções: Administrativo, Aluguel, Financeiro, Vendas ou diga 'sair' para encerrar a conversa\"\n",
    "SALES = \"Ótimo, vou transferir você para um de nossos corretores de vendas\"\n",
    "RENT = \"Ótimo, vou transferir você para um de nossos corretores de aluguel\"\n",
    "ADMIN = \"Ótimo, vou transferir você para o nosso departamento Administrativo\"\n",
    "FINANCE = \"Ótimo, vou transferir você para o nosso departamento Financeiro\"\n",
    "THANKS = \"A imobiliária Casas agradece seu contato. Obrigado por utilizar o robô falante. Até mais!\""
   ]
  },
  {
   "attachments": {},
   "cell_type": "markdown",
   "metadata": {},
   "source": [
    "#### Funções auxiliares"
   ]
  },
  {
   "cell_type": "code",
   "execution_count": 5,
   "metadata": {},
   "outputs": [
    {
     "name": "stdout",
     "output_type": "stream",
     "text": [
      "(0, 'Microsoft Sound Mapper - Input', 2)\n",
      "(1, 'Headset Microphone (HyperX 7.1 ', 2)\n",
      "(2, 'Microphone (HD Pro Webcam C920)', 2)\n",
      "(3, 'Microsoft Sound Mapper - Output', 0)\n",
      "(4, 'Headset Earphone (HyperX 7.1 Au', 0)\n",
      "(5, 'LC27G7xT (NVIDIA High Definitio', 0)\n",
      "(6, 'VS248 (NVIDIA High Definition A', 0)\n",
      "(7, 'Realtek Digital Output (Realtek', 0)\n",
      "(8, 'Primary Sound Capture Driver', 2)\n",
      "(9, 'Headset Microphone (HyperX 7.1 Audio)', 2)\n",
      "(10, 'Microphone (HD Pro Webcam C920)', 2)\n",
      "(11, 'Primary Sound Driver', 0)\n",
      "(12, 'Headset Earphone (HyperX 7.1 Audio)', 0)\n",
      "(13, 'LC27G7xT (NVIDIA High Definition Audio)', 0)\n",
      "(14, 'VS248 (NVIDIA High Definition Audio)', 0)\n",
      "(15, 'Realtek Digital Output (Realtek(R) Audio)', 0)\n",
      "(16, 'LC27G7xT (NVIDIA High Definition Audio)', 0)\n",
      "(17, 'Headset Earphone (HyperX 7.1 Audio)', 0)\n",
      "(18, 'VS248 (NVIDIA High Definition Audio)', 0)\n",
      "(19, 'Realtek Digital Output (Realtek(R) Audio)', 0)\n",
      "(20, 'Headset Microphone (HyperX 7.1 Audio)', 2)\n",
      "(21, 'Microphone (HD Pro Webcam C920)', 2)\n",
      "(22, 'Line In (Realtek HD Audio Line input)', 2)\n",
      "(23, 'Headphones (Realtek HD Audio 2nd output)', 0)\n",
      "(24, 'Stereo Mix (Realtek HD Audio Stereo input)', 2)\n",
      "(25, 'Microphone (Realtek HD Audio Mic input)', 2)\n",
      "(26, 'Speakers (Realtek HD Audio output)', 0)\n",
      "(27, 'SPDIF Out (Realtek HDA SPDIF Out)', 0)\n",
      "(28, 'Headset Microphone (HyperX 7.1 Audio)', 2)\n",
      "(29, 'Headset Earphone (HyperX 7.1 Audio)', 0)\n",
      "(30, 'Output (NVIDIA High Definition Audio)', 0)\n",
      "(31, 'Output ()', 0)\n",
      "(32, 'Microphone (HD Pro Webcam C920)', 2)\n"
     ]
    }
   ],
   "source": [
    "def get_channels():\n",
    "  p = pyaudio.PyAudio()\n",
    "  for i in range(p.get_device_count()):\n",
    "    dev = p.get_device_info_by_index(i)\n",
    "    print((i,dev['name'],dev['maxInputChannels']))\n",
    "\n",
    "get_channels()"
   ]
  },
  {
   "cell_type": "code",
   "execution_count": 3,
   "metadata": {},
   "outputs": [],
   "source": [
    "def start_recording(seconds = 5, filename = \"input.wav\"):\n",
    "  if os.path.exists(filename):\n",
    "    os.remove(filename) \n",
    "  chunk = 1024\n",
    "  sample_format = pyaudio.paInt16\n",
    "  fs = 44100\n",
    "  # Pode ser necessário trocar o valor do channels dependendo do dispositivo, para isso, execute a função get_channels() e veja qual número usar\n",
    "  channels = 2\n",
    "  p = pyaudio.PyAudio()\n",
    "\n",
    "  print('Recording, speak now...')\n",
    "\n",
    "  stream = p.open(\n",
    "    format=sample_format,\n",
    "    channels=channels,\n",
    "    rate=fs,\n",
    "    frames_per_buffer=chunk,\n",
    "    input=True\n",
    "  )\n",
    "\n",
    "  frames = []\n",
    "  for i in range(0, int(fs / chunk * seconds)):\n",
    "    data = stream.read(chunk)\n",
    "    frames.append(data)\n",
    "\n",
    "  stream.stop_stream()\n",
    "  stream.close()\n",
    "  p.terminate()\n",
    "\n",
    "  print('Finished recording')\n",
    "\n",
    "  wf = wave.open(filename, 'wb')\n",
    "  wf.setnchannels(channels)\n",
    "  wf.setsampwidth(p.get_sample_size(sample_format))\n",
    "  wf.setframerate(fs)\n",
    "  wf.writeframes(b''.join(frames))\n",
    "  wf.close()\n",
    "\n",
    "def speak(text, lang = 'pt', tld = 'com.br', filename = 'output.mp3'):\n",
    "  if os.path.exists(filename):\n",
    "    os.remove(filename) \n",
    "  tts = gTTS(text=text, lang=lang, tld=tld)\n",
    "  tts.save(filename)\n",
    "  sound = soundplay(filename)\n",
    "  while getIsPlaying(sound):\n",
    "    sleep(1)\n",
    "  stopsound(sound)\n",
    "\n",
    "def stt_google(filename, lang = 'pt-BR'):\n",
    "  recog = sr.Recognizer()\n",
    "  try:\n",
    "    with sr.AudioFile(filename) as source:\n",
    "      audio = recog.record(source)\n",
    "      return recog.recognize_google(audio,language=lang)\n",
    "  except:\n",
    "    return ''\n",
    "\n",
    "def exit_loop(transcript):\n",
    "  if 'obrigad' in transcript.lower() or 'tchau' in transcript.lower() or 'adeus' in transcript.lower() or 'encerrar' in transcript.lower() or 'sair' in transcript.lower():\n",
    "    return True\n",
    "  else:\n",
    "    return False"
   ]
  },
  {
   "attachments": {},
   "cell_type": "markdown",
   "metadata": {},
   "source": [
    "#### Lógica de funcionamento"
   ]
  },
  {
   "cell_type": "code",
   "execution_count": 13,
   "metadata": {},
   "outputs": [
    {
     "name": "stdout",
     "output_type": "stream",
     "text": [
      "Recording, speak now...\n",
      "Finished recording\n",
      "result2:\n",
      "{   'alternative': [{'confidence': 0.82141513, 'transcript': 'financeiro'}],\n",
      "    'final': True}\n",
      "Recording, speak now...\n",
      "Finished recording\n",
      "result2:\n",
      "[]\n",
      "Recording, speak now...\n",
      "Finished recording\n",
      "result2:\n",
      "{   'alternative': [{'confidence': 0.82141513, 'transcript': 'administrativo'}],\n",
      "    'final': True}\n",
      "Recording, speak now...\n",
      "Finished recording\n",
      "result2:\n",
      "{   'alternative': [{'confidence': 0.82141513, 'transcript': 'sair'}],\n",
      "    'final': True}\n"
     ]
    }
   ],
   "source": [
    "speak(HELLO)\n",
    "transcript = ''\n",
    "while (not exit_loop(transcript)):\n",
    "  start_recording()\n",
    "  transcript = stt_google('input.wav')\n",
    "  if 'vend' in transcript.lower():\n",
    "    speak(SALES)\n",
    "    sleep(1)\n",
    "    speak(HELLO2)\n",
    "  elif 'administrativ' in transcript.lower():\n",
    "    speak(ADMIN)\n",
    "    sleep(1)\n",
    "    speak(HELLO2)\n",
    "  elif 'aluguel' in transcript.lower():\n",
    "    speak(RENT)\n",
    "    sleep(1)\n",
    "    speak(HELLO2)\n",
    "  elif 'financeir' in transcript.lower():\n",
    "    speak(FINANCE)\n",
    "    sleep(1)\n",
    "    speak(HELLO2)\n",
    "  elif not exit_loop(transcript):\n",
    "    speak(NOT_UNDERSTAND)\n",
    "\n",
    "speak(THANKS)"
   ]
  },
  {
   "attachments": {},
   "cell_type": "markdown",
   "metadata": {},
   "source": [
    "## Link para vídeo demonstrando a execução do programa"
   ]
  },
  {
   "attachments": {},
   "cell_type": "markdown",
   "metadata": {},
   "source": [
    "Link: https://youtu.be/WoYroUT-dP4 \n",
    "\n",
    "OBS: por favor aumente o volume porque o volume da minha voz ficou um pouco baixo"
   ]
  }
 ],
 "metadata": {
  "kernelspec": {
   "display_name": "audio",
   "language": "python",
   "name": "python3"
  },
  "language_info": {
   "codemirror_mode": {
    "name": "ipython",
    "version": 3
   },
   "file_extension": ".py",
   "mimetype": "text/x-python",
   "name": "python",
   "nbconvert_exporter": "python",
   "pygments_lexer": "ipython3",
   "version": "3.9.0"
  },
  "orig_nbformat": 4,
  "vscode": {
   "interpreter": {
    "hash": "985115132a0fd923207a57e94ab548d5555671933f8b6207dd0ad3508d1d38a7"
   }
  }
 },
 "nbformat": 4,
 "nbformat_minor": 2
}
