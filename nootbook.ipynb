{
 "cells": [
  {
   "attachments": {},
   "cell_type": "markdown",
   "metadata": {},
   "source": [
    "# Enunciado\n",
    "\n",
    "Gerar um texto, em português, como se fosse um atendente virtual de uma imobiliária.\n",
    "\n",
    "Através da sintetização do texto, a AV precisa dizer ao cliente que está “ligando” o que ele pode pedir. \n",
    "\n",
    "São quatro áreas obrigatórias:\n",
    "- Vendas\n",
    "- Aluguel\n",
    "- Administrativo\n",
    "- Financeiro\n",
    "\n",
    "Com o microfone, a pessoa responde uma dessas áreas e através de alguma das funções de reconhecimento de áudio, a área deverá ser identificada e, novamente por sintetização de voz, deverá gerar um áudio indicando que a ligação será transferida para a área correspondente. Por exemplo: “Ótimo, vou transferir você para um de nossos corretores de vendas.”\n",
    "\n",
    "Deve estar em um loop. E deve haver uma palavra chave pra encerrar o loop. \n",
    "\n",
    "Entregar:\n",
    "- Texto descrevendo o problema e a solução desenvolvida\n",
    "- Código em Python\n",
    "- Link para vídeo demonstrando a execução do programa"
   ]
  },
  {
   "attachments": {},
   "cell_type": "markdown",
   "metadata": {},
   "source": [
    "## Texto descrevendo o problema\n"
   ]
  },
  {
   "attachments": {},
   "cell_type": "markdown",
   "metadata": {},
   "source": [
    "Resposta:"
   ]
  },
  {
   "attachments": {},
   "cell_type": "markdown",
   "metadata": {},
   "source": [
    "## Código"
   ]
  },
  {
   "cell_type": "code",
   "execution_count": 1,
   "metadata": {},
   "outputs": [
    {
     "name": "stderr",
     "output_type": "stream",
     "text": [
      "C:\\Users\\vinix\\AppData\\Roaming\\Python\\Python39\\site-packages\\pydub\\utils.py:170: RuntimeWarning: Couldn't find ffmpeg or avconv - defaulting to ffmpeg, but may not work\n",
      "  warn(\"Couldn't find ffmpeg or avconv - defaulting to ffmpeg, but may not work\", RuntimeWarning)\n"
     ]
    }
   ],
   "source": [
    "from IPython.display import Audio\n",
    "import numpy as np\n",
    "import speech_recognition as sr\n",
    "from gtts import lang, gTTS\n",
    "from pydub import AudioSegment\n",
    "from scipy.io.wavfile import write\n",
    "import io"
   ]
  },
  {
   "cell_type": "code",
   "execution_count": 2,
   "metadata": {},
   "outputs": [],
   "source": [
    "def speak(text, lang, tld):\n",
    "  with io.BytesIO() as f:\n",
    "    gTTS(text=text, lang=lang, tld=tld).write_to_fp(f)\n",
    "    f.seek(0)\n",
    "    return Audio(f.read(), autoplay=True)\n",
    "\n",
    "def convert_mp3_to_wav(mp3file, wavfile):\n",
    "  mp3 = AudioSegment.from_mp3(mp3file)\n",
    "  return mp3.export(wavfile, format=\"wav\")\n",
    "\n",
    "def save_audio_microphone(audio,filename):\n",
    "  scaled = np.int16(audio/np.max(np.abs(audio)) * 32767)\n",
    "  write(filename, 44100, scaled)\n",
    "\n",
    "def stt_google(filename, lang):\n",
    "  recog = sr.Recognizer()\n",
    "  with sr.AudioFile(filename) as source:\n",
    "    audio = recog.record(source)\n",
    "    return recog.recognize_google(audio,language=lang)"
   ]
  },
  {
   "cell_type": "code",
   "execution_count": 3,
   "metadata": {},
   "outputs": [
    {
     "data": {
      "text/html": [
       "\n",
       "                <audio  controls=\"controls\" autoplay=\"autoplay\">\n",
       "                    <source src=\"data:audio/wav;base64,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\" type=\"audio/wav\" />\n",
       "                    Your browser does not support the audio element.\n",
       "                </audio>\n",
       "              "
      ],
      "text/plain": [
       "<IPython.lib.display.Audio object>"
      ]
     },
     "execution_count": 3,
     "metadata": {},
     "output_type": "execute_result"
    }
   ],
   "source": [
    "HELLO = \"Olá, sou o robô falante. Com qual área gostaria de falar? Vendas, Aluguel, Administrativo ou Financeiro\"\n",
    "SALES = \"Ótimo, vou transferir você para um de nossos corretores de vendas\"\n",
    "RENT = \"Ótimo, vou transferir você para um de nossos corretores de aluguel\"\n",
    "ADMIN = \"Ótimo, vou transferir você para o nosso departamento Administraivo\"\n",
    "FINANCE = \"Ótimo, vou transferir você para o nosso departamento Financeiro\"\n",
    "THANKS = \"Obrigado por utilizar o robô falante. Até mais!\"\n",
    "\n",
    "\n",
    "speak(THANKS, \"pt\", \"com.br\")"
   ]
  },
  {
   "cell_type": "code",
   "execution_count": 4,
   "metadata": {},
   "outputs": [
    {
     "data": {
      "text/plain": [
       "{'index': 1,\n",
       " 'structVersion': 2,\n",
       " 'name': 'Headset Microphone (HyperX 7.1 ',\n",
       " 'hostApi': 0,\n",
       " 'maxInputChannels': 2,\n",
       " 'maxOutputChannels': 0,\n",
       " 'defaultLowInputLatency': 0.09,\n",
       " 'defaultLowOutputLatency': 0.09,\n",
       " 'defaultHighInputLatency': 0.18,\n",
       " 'defaultHighOutputLatency': 0.18,\n",
       " 'defaultSampleRate': 44100.0}"
      ]
     },
     "execution_count": 4,
     "metadata": {},
     "output_type": "execute_result"
    }
   ],
   "source": [
    "import pyaudio\n",
    "\n",
    "pa = pyaudio.PyAudio()\n",
    "pa.get_default_input_device_info()"
   ]
  },
  {
   "cell_type": "code",
   "execution_count": 5,
   "metadata": {},
   "outputs": [
    {
     "name": "stdout",
     "output_type": "stream",
     "text": [
      "Recording\n",
      "Finished recording\n"
     ]
    }
   ],
   "source": [
    "import pyaudio\n",
    "import wave\n",
    "\n",
    "chunk = 1024  # Record in chunks of 1024 samples\n",
    "sample_format = pyaudio.paInt16  # 16 bits per sample\n",
    "channels = 2\n",
    "fs = 44100  # Record at 44100 samples per second\n",
    "seconds = 3\n",
    "filename = \"output.wav\"\n",
    "\n",
    "p = pyaudio.PyAudio()  # Create an interface to PortAudio\n",
    "\n",
    "print('Recording')\n",
    "\n",
    "stream = p.open(format=sample_format,\n",
    "                channels=channels,\n",
    "                rate=fs,\n",
    "                frames_per_buffer=chunk,\n",
    "                input=True)\n",
    "\n",
    "frames = []  # Initialize array to store frames\n",
    "\n",
    "# Store data in chunks for 3 seconds\n",
    "for i in range(0, int(fs / chunk * seconds)):\n",
    "    data = stream.read(chunk)\n",
    "    frames.append(data)\n",
    "\n",
    "# Stop and close the stream \n",
    "stream.stop_stream()\n",
    "stream.close()\n",
    "# Terminate the PortAudio interface\n",
    "p.terminate()\n",
    "\n",
    "print('Finished recording')\n",
    "\n",
    "# Save the recorded data as a WAV file\n",
    "wf = wave.open(filename, 'wb')\n",
    "wf.setnchannels(channels)\n",
    "wf.setsampwidth(p.get_sample_size(sample_format))\n",
    "wf.setframerate(fs)\n",
    "wf.writeframes(b''.join(frames))\n",
    "wf.close()"
   ]
  },
  {
   "cell_type": "code",
   "execution_count": null,
   "metadata": {},
   "outputs": [],
   "source": []
  },
  {
   "cell_type": "code",
   "execution_count": null,
   "metadata": {},
   "outputs": [],
   "source": []
  },
  {
   "attachments": {},
   "cell_type": "markdown",
   "metadata": {},
   "source": [
    "## Vídeo"
   ]
  },
  {
   "attachments": {},
   "cell_type": "markdown",
   "metadata": {},
   "source": [
    "Link:"
   ]
  }
 ],
 "metadata": {
  "kernelspec": {
   "display_name": "base",
   "language": "python",
   "name": "python3"
  },
  "language_info": {
   "codemirror_mode": {
    "name": "ipython",
    "version": 3
   },
   "file_extension": ".py",
   "mimetype": "text/x-python",
   "name": "python",
   "nbconvert_exporter": "python",
   "pygments_lexer": "ipython3",
   "version": "3.9.12"
  },
  "orig_nbformat": 4,
  "vscode": {
   "interpreter": {
    "hash": "ad2bdc8ecc057115af97d19610ffacc2b4e99fae6737bb82f5d7fb13d2f2c186"
   }
  }
 },
 "nbformat": 4,
 "nbformat_minor": 2
}
