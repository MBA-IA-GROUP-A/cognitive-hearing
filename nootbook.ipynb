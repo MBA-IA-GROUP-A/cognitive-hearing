{
 "cells": [
  {
   "attachments": {},
   "cell_type": "markdown",
   "metadata": {},
   "source": [
    "# Enunciado\n",
    "\n",
    "Gerar um texto, em português, como se fosse um atendente virtual de uma imobiliária.\n",
    "\n",
    "Através da sintetização do texto, a AV precisa dizer ao cliente que está “ligando” o que ele pode pedir. \n",
    "\n",
    "São quatro áreas obrigatórias:\n",
    "- Vendas\n",
    "- Aluguel\n",
    "- Administrativo\n",
    "- Financeiro\n",
    "\n",
    "Com o microfone, a pessoa responde uma dessas áreas e através de alguma das funções de reconhecimento de áudio, a área deverá ser identificada e, novamente por sintetização de voz, deverá gerar um áudio indicando que a ligação será transferida para a área correspondente. Por exemplo: “Ótimo, vou transferir você para um de nossos corretores de vendas.”\n",
    "\n",
    "Deve estar em um loop. E deve haver uma palavra chave pra encerrar o loop. \n",
    "\n",
    "Entregar:\n",
    "- Texto descrevendo o problema e a solução desenvolvida\n",
    "- Código em Python\n",
    "- Link para vídeo demonstrando a execução do programa"
   ]
  },
  {
   "attachments": {},
   "cell_type": "markdown",
   "metadata": {},
   "source": [
    "## Texto descrevendo o problema\n"
   ]
  },
  {
   "attachments": {},
   "cell_type": "markdown",
   "metadata": {},
   "source": [
    "Resposta:"
   ]
  },
  {
   "attachments": {},
   "cell_type": "markdown",
   "metadata": {},
   "source": [
    "## Código"
   ]
  },
  {
   "cell_type": "code",
   "execution_count": 11,
   "metadata": {},
   "outputs": [],
   "source": [
    "from IPython.display import Audio\n",
    "import numpy as np\n",
    "import speech_recognition as sr\n",
    "from gtts import lang, gTTS\n",
    "from pydub import AudioSegment\n",
    "from scipy.io.wavfile import write\n",
    "import pyaudio\n",
    "import wave\n",
    "import io"
   ]
  },
  {
   "attachments": {},
   "cell_type": "markdown",
   "metadata": {},
   "source": [
    "#### Mensagens"
   ]
  },
  {
   "cell_type": "code",
   "execution_count": 40,
   "metadata": {},
   "outputs": [],
   "source": [
    "HELLO = \"Olá, sou o robô falante. Com qual área gostaria de falar? Vendas, Aluguel, Administrativo ou Financeiro\"\n",
    "NOT_UNDERSTAND = \"Opção inválida. Por favor, escolha uma das opções: Vendas, Aluguel, Administrativo ou Financeiro\" \n",
    "SALES = \"Ótimo, vou transferir você para um de nossos corretores de vendas\"\n",
    "RENT = \"Ótimo, vou transferir você para um de nossos corretores de aluguel\"\n",
    "ADMIN = \"Ótimo, vou transferir você para o nosso departamento Administraivo\"\n",
    "FINANCE = \"Ótimo, vou transferir você para o nosso departamento Financeiro\"\n",
    "THANKS = \"Obrigado por utilizar o robô falante. Até mais!\""
   ]
  },
  {
   "attachments": {},
   "cell_type": "markdown",
   "metadata": {},
   "source": [
    "#### Funções auxiliares"
   ]
  },
  {
   "cell_type": "code",
   "execution_count": 38,
   "metadata": {},
   "outputs": [],
   "source": [
    "def start_recording(seconds = 5, filename = \"output.wav\"):\n",
    "  chunk = 1024\n",
    "  sample_format = pyaudio.paInt16\n",
    "  fs = 44100\n",
    "  channels = 2\n",
    "\n",
    "  p = pyaudio.PyAudio()\n",
    "\n",
    "  print('Recording')\n",
    "\n",
    "  stream = p.open(\n",
    "    format=sample_format,\n",
    "    channels=channels,\n",
    "    rate=fs,\n",
    "    frames_per_buffer=chunk,\n",
    "    input=True\n",
    "  )\n",
    "\n",
    "  frames = []\n",
    "  for i in range(0, int(fs / chunk * seconds)):\n",
    "    data = stream.read(chunk)\n",
    "    frames.append(data)\n",
    "\n",
    "  stream.stop_stream()\n",
    "  stream.close()\n",
    "  p.terminate()\n",
    "\n",
    "  print('Finished recording')\n",
    "\n",
    "  wf = wave.open(filename, 'wb')\n",
    "  wf.setnchannels(channels)\n",
    "  wf.setsampwidth(p.get_sample_size(sample_format))\n",
    "  wf.setframerate(fs)\n",
    "  wf.writeframes(b''.join(frames))\n",
    "  wf.close()\n",
    "  print('Audio saved')\n",
    "\n",
    "def speak(text, lang = 'pt', tld = 'com.br'):\n",
    "  with io.BytesIO() as f:\n",
    "    gTTS(text=text, lang=lang, tld=tld).write_to_fp(f)\n",
    "    f.seek(0)\n",
    "    return Audio(f.read(), autoplay=True)\n",
    "\n",
    "def stt_google(filename, lang = 'pt-BR'):\n",
    "  recog = sr.Recognizer()\n",
    "  try:\n",
    "    with sr.AudioFile(filename) as source:\n",
    "      audio = recog.record(source)\n",
    "      return recog.recognize_google(audio,language=lang)\n",
    "  except:\n",
    "    return ''\n",
    "\n",
    "def exit_loop(transcript):\n",
    "  if 'obrigad' in transcript.lower() or 'tchau' in transcript.lower():\n",
    "    return True\n",
    "  else:\n",
    "    return False"
   ]
  },
  {
   "attachments": {},
   "cell_type": "markdown",
   "metadata": {},
   "source": [
    "#### Lógica de funcionamento"
   ]
  },
  {
   "cell_type": "code",
   "execution_count": 43,
   "metadata": {},
   "outputs": [
    {
     "name": "stdout",
     "output_type": "stream",
     "text": [
      "Recording\n",
      "Finished recording\n",
      "Audio saved\n",
      "result2:\n",
      "{   'alternative': [{'confidence': 0.82141513, 'transcript': 'vendas'}],\n",
      "    'final': True}\n",
      "Recording\n",
      "Finished recording\n",
      "Audio saved\n",
      "result2:\n",
      "{   'alternative': [{'confidence': 0.82141513, 'transcript': 'aluguel'}],\n",
      "    'final': True}\n",
      "Recording\n",
      "Finished recording\n",
      "Audio saved\n",
      "result2:\n",
      "{   'alternative': [{'confidence': 0.82141513, 'transcript': 'obrigado'}],\n",
      "    'final': True}\n"
     ]
    }
   ],
   "source": [
    "speak(HELLO)\n",
    "transcript = ''\n",
    "while (not exit_loop(transcript)):\n",
    "  start_recording()\n",
    "  transcript = stt_google('output.wav')\n",
    "  if 'vend' in transcript.lower():\n",
    "    speak(SALES)\n",
    "  elif 'administrativ' in transcript.lower():\n",
    "    speak(ADMIN)\n",
    "  elif 'aluguel' in transcript.lower():\n",
    "    speak(RENT)\n",
    "  elif 'financeir' in transcript.lower():\n",
    "    speak(FINANCE)\n",
    "  else:\n",
    "    speak(NOT_UNDERSTAND)"
   ]
  },
  {
   "attachments": {},
   "cell_type": "markdown",
   "metadata": {},
   "source": [
    "## Vídeo"
   ]
  },
  {
   "attachments": {},
   "cell_type": "markdown",
   "metadata": {},
   "source": [
    "Link:"
   ]
  }
 ],
 "metadata": {
  "kernelspec": {
   "display_name": "audio",
   "language": "python",
   "name": "python3"
  },
  "language_info": {
   "codemirror_mode": {
    "name": "ipython",
    "version": 3
   },
   "file_extension": ".py",
   "mimetype": "text/x-python",
   "name": "python",
   "nbconvert_exporter": "python",
   "pygments_lexer": "ipython3",
   "version": "3.9.0"
  },
  "orig_nbformat": 4,
  "vscode": {
   "interpreter": {
    "hash": "985115132a0fd923207a57e94ab548d5555671933f8b6207dd0ad3508d1d38a7"
   }
  }
 },
 "nbformat": 4,
 "nbformat_minor": 2
}
