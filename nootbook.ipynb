{
 "cells": [
  {
   "attachments": {},
   "cell_type": "markdown",
   "metadata": {},
   "source": [
    "# Enunciado\n",
    "\n",
    "Gerar um texto, em português, como se fosse um atendente virtual de uma imobiliária.\n",
    "\n",
    "Através da sintetização do texto, a AV precisa dizer ao cliente que está “ligando” o que ele pode pedir. \n",
    "\n",
    "São quatro áreas obrigatórias:\n",
    "- Vendas\n",
    "- Aluguel\n",
    "- Administrativo\n",
    "- Financeiro\n",
    "\n",
    "Com o microfone, a pessoa responde uma dessas áreas e através de alguma das funções de reconhecimento de áudio, a área deverá ser identificada e, novamente por sintetização de voz, deverá gerar um áudio indicando que a ligação será transferida para a área correspondente. Por exemplo: “Ótimo, vou transferir você para um de nossos corretores de vendas.”\n",
    "\n",
    "Deve estar em um loop. E deve haver uma palavra chave pra encerrar o loop. \n",
    "\n",
    "Entregar:\n",
    "- Texto descrevendo o problema e a solução desenvolvida\n",
    "- Código em Python\n",
    "- Link para vídeo demonstrando a execução do programa"
   ]
  },
  {
   "attachments": {},
   "cell_type": "markdown",
   "metadata": {},
   "source": [
    "## Texto descrevendo o problema e a solução desenvolvida\n"
   ]
  },
  {
   "attachments": {},
   "cell_type": "markdown",
   "metadata": {},
   "source": [
    "Resposta:\n",
    "\n",
    "Primeiro definimos as frases que o atendente virtual precisa falar para o atendimento. \n",
    "\n",
    "Depois definimos algumas funções auxiliares e por ultimo montamos o fluxo.\n",
    "\n",
    "Enquanto o usuário não falar a palavra \"Tchau\" ou \"Obrigado(a)\" o fluxo ficara em loop esperando por uma das palavras:\n",
    "\n",
    "- Vendas\n",
    "- Aluguel\n",
    "- Administrativo\n",
    "- Financeiro\n",
    "\n",
    "Se nada for dito ou a palavra dita não for reconhecida, o fluxo ira responder com uma mensagem de opção inválida.\n",
    "\n",
    "Utilizamos a bibliotca do Google para fazer a voz sintetizada do atendante. Sobre o usuário, utilizamos a biblioteca PyAudio para gravar o som em conjunto com a biblioteca do Google para transcrever o audio.\n"
   ]
  },
  {
   "attachments": {},
   "cell_type": "markdown",
   "metadata": {},
   "source": [
    "## Código em Python"
   ]
  },
  {
   "cell_type": "code",
   "execution_count": 5,
   "metadata": {},
   "outputs": [],
   "source": [
    "from IPython.display import Audio, display\n",
    "import numpy as np\n",
    "import speech_recognition as sr\n",
    "from gtts import lang, gTTS\n",
    "from pydub import AudioSegment\n",
    "from scipy.io.wavfile import write\n",
    "import pyaudio\n",
    "import wave\n",
    "import io\n",
    "import ffmpeg\n",
    "from time import sleep\n",
    "import time\n",
    "import os\n",
    "from playsound import playsound"
   ]
  },
  {
   "attachments": {},
   "cell_type": "markdown",
   "metadata": {},
   "source": [
    "#### Mensagens"
   ]
  },
  {
   "cell_type": "code",
   "execution_count": 6,
   "metadata": {},
   "outputs": [],
   "source": [
    "HELLO = \"Olá, sou o robô falante da imobiliária Casas. Com qual área gostaria de falar? Vendas, Aluguel, Administrativo ou Financeiro\"\n",
    "NOT_UNDERSTAND = \"Opção inválida. Por favor, escolha uma das opções: Vendas, Aluguel, Administrativo ou Financeiro\" \n",
    "SALES = \"Ótimo, vou transferir você para um de nossos corretores de vendas\"\n",
    "RENT = \"Ótimo, vou transferir você para um de nossos corretores de aluguel\"\n",
    "ADMIN = \"Ótimo, vou transferir você para o nosso departamento Administraivo\"\n",
    "FINANCE = \"Ótimo, vou transferir você para o nosso departamento Financeiro\"\n",
    "THANKS = \"Obrigado por utilizar o robô falante. Até mais!\""
   ]
  },
  {
   "attachments": {},
   "cell_type": "markdown",
   "metadata": {},
   "source": [
    "#### Funções auxiliares"
   ]
  },
  {
   "cell_type": "code",
   "execution_count": 7,
   "metadata": {},
   "outputs": [],
   "source": [
    "def start_recording(seconds = 5, filename = \"output.wav\"):\n",
    "  chunk = 1024\n",
    "  sample_format = pyaudio.paInt16\n",
    "  fs = 44100\n",
    "  channels = 2\n",
    "\n",
    "  p = pyaudio.PyAudio()\n",
    "\n",
    "  print('Recording, speak now...')\n",
    "\n",
    "  stream = p.open(\n",
    "    format=sample_format,\n",
    "    channels=channels,\n",
    "    rate=fs,\n",
    "    frames_per_buffer=chunk,\n",
    "    input=True\n",
    "  )\n",
    "\n",
    "  frames = []\n",
    "  for i in range(0, int(fs / chunk * seconds)):\n",
    "    data = stream.read(chunk)\n",
    "    frames.append(data)\n",
    "\n",
    "  stream.stop_stream()\n",
    "  stream.close()\n",
    "  p.terminate()\n",
    "\n",
    "  print('Finished recording')\n",
    "\n",
    "  wf = wave.open(filename, 'wb')\n",
    "  wf.setnchannels(channels)\n",
    "  wf.setsampwidth(p.get_sample_size(sample_format))\n",
    "  wf.setframerate(fs)\n",
    "  wf.writeframes(b''.join(frames))\n",
    "  wf.close()\n",
    "\n",
    "def speak(text, lang = 'pt', tld = 'com.br', filename = 'output.mp3'):\n",
    "  if os.path.exists(filename):\n",
    "    os.remove(filename) \n",
    "  tts = gTTS(text=text, lang=lang, tld=tld)\n",
    "  tts.save(filename)\n",
    "  # playsound(filename)\n",
    "\n",
    "def stt_google(filename, lang = 'pt-BR'):\n",
    "  recog = sr.Recognizer()\n",
    "  os.remove(filename)\n",
    "  try:\n",
    "    with sr.AudioFile(filename) as source:\n",
    "      audio = recog.record(source)\n",
    "      return recog.recognize_google(audio,language=lang)\n",
    "  except:\n",
    "    return ''\n",
    "\n",
    "def exit_loop(transcript):\n",
    "  if 'obrigad' in transcript.lower() or 'tchau' in transcript.lower():\n",
    "    return True\n",
    "  else:\n",
    "    return False"
   ]
  },
  {
   "attachments": {},
   "cell_type": "markdown",
   "metadata": {},
   "source": [
    "#### Lógica de funcionamento"
   ]
  },
  {
   "cell_type": "code",
   "execution_count": 8,
   "metadata": {},
   "outputs": [
    {
     "ename": "KeyboardInterrupt",
     "evalue": "",
     "output_type": "error",
     "traceback": [
      "\u001b[1;31m---------------------------------------------------------------------------\u001b[0m",
      "\u001b[1;31mKeyboardInterrupt\u001b[0m                         Traceback (most recent call last)",
      "Cell \u001b[1;32mIn[8], line 2\u001b[0m\n\u001b[0;32m      1\u001b[0m speak(HELLO)\n\u001b[1;32m----> 2\u001b[0m sleep(\u001b[39m13\u001b[39;49m)\n\u001b[0;32m      3\u001b[0m transcript \u001b[39m=\u001b[39m \u001b[39m'\u001b[39m\u001b[39m'\u001b[39m\n\u001b[0;32m      4\u001b[0m \u001b[39mwhile\u001b[39;00m (\u001b[39mnot\u001b[39;00m exit_loop(transcript)):\n",
      "\u001b[1;31mKeyboardInterrupt\u001b[0m: "
     ]
    }
   ],
   "source": [
    "speak(HELLO)\n",
    "sleep(13)\n",
    "transcript = ''\n",
    "while (not exit_loop(transcript)):\n",
    "  start_recording()\n",
    "  transcript = stt_google('input.wav')\n",
    "  if 'vend' in transcript.lower():\n",
    "    speak(SALES)\n",
    "    sleep(8)\n",
    "  elif 'administrativ' in transcript.lower():\n",
    "    speak(ADMIN)\n",
    "    sleep(8)\n",
    "  elif 'aluguel' in transcript.lower():\n",
    "    speak(RENT)\n",
    "    sleep(8)\n",
    "  elif 'financeir' in transcript.lower():\n",
    "    speak(FINANCE)\n",
    "    sleep(8)\n",
    "  elif not exit_loop(transcript):\n",
    "    speak(NOT_UNDERSTAND)\n",
    "    sleep(13)\n",
    "\n",
    "speak(THANKS)"
   ]
  },
  {
   "attachments": {},
   "cell_type": "markdown",
   "metadata": {},
   "source": [
    "## Link para vídeo demonstrando a execução do programa"
   ]
  },
  {
   "attachments": {},
   "cell_type": "markdown",
   "metadata": {},
   "source": [
    "Link:"
   ]
  }
 ],
 "metadata": {
  "kernelspec": {
   "display_name": "audio",
   "language": "python",
   "name": "python3"
  },
  "language_info": {
   "codemirror_mode": {
    "name": "ipython",
    "version": 3
   },
   "file_extension": ".py",
   "mimetype": "text/x-python",
   "name": "python",
   "nbconvert_exporter": "python",
   "pygments_lexer": "ipython3",
   "version": "3.9.0"
  },
  "orig_nbformat": 4,
  "vscode": {
   "interpreter": {
    "hash": "985115132a0fd923207a57e94ab548d5555671933f8b6207dd0ad3508d1d38a7"
   }
  }
 },
 "nbformat": 4,
 "nbformat_minor": 2
}
