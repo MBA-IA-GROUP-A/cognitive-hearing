{
 "cells": [
  {
   "attachments": {},
   "cell_type": "markdown",
   "metadata": {},
   "source": [
    "# Enunciado\n",
    "\n",
    "Gerar um texto, em português, como se fosse um atendente virtual de uma imobiliária.\n",
    "\n",
    "Através da sintetização do texto, a AV precisa dizer ao cliente que está “ligando” o que ele pode pedir. \n",
    "\n",
    "São quatro áreas obrigatórias:\n",
    "- Vendas\n",
    "- Aluguel\n",
    "- Administrativo\n",
    "- Financeiro\n",
    "\n",
    "Com o microfone, a pessoa responde uma dessas áreas e através de alguma das funções de reconhecimento de áudio, a área deverá ser identificada e, novamente por sintetização de voz, deverá gerar um áudio indicando que a ligação será transferida para a área correspondente. Por exemplo: “Ótimo, vou transferir você para um de nossos corretores de vendas.”\n",
    "\n",
    "Deve estar em um loop. E deve haver uma palavra chave pra encerrar o loop. \n",
    "\n",
    "Entregar:\n",
    "- Texto descrevendo o problema e a solução desenvolvida\n",
    "- Código em Python\n",
    "- Link para vídeo demonstrando a execução do programa"
   ]
  },
  {
   "attachments": {},
   "cell_type": "markdown",
   "metadata": {},
   "source": [
    "## Texto descrevendo o problema\n"
   ]
  },
  {
   "attachments": {},
   "cell_type": "markdown",
   "metadata": {},
   "source": [
    "## Código"
   ]
  },
  {
   "cell_type": "code",
   "execution_count": null,
   "metadata": {},
   "outputs": [],
   "source": [
    "from IPython.display import HTML, Audio\n",
    "import numpy as np\n",
    "import speech_recognition as sr"
   ]
  },
  {
   "cell_type": "code",
   "execution_count": null,
   "metadata": {},
   "outputs": [],
   "source": []
  },
  {
   "attachments": {},
   "cell_type": "markdown",
   "metadata": {},
   "source": [
    "## Vídeo"
   ]
  }
 ],
 "metadata": {
  "kernelspec": {
   "display_name": "Python 3",
   "language": "python",
   "name": "python3"
  },
  "language_info": {
   "name": "python",
   "version": "3.8.10"
  },
  "orig_nbformat": 4,
  "vscode": {
   "interpreter": {
    "hash": "916dbcbb3f70747c44a77c7bcd40155683ae19c65e1c03b4aa3499c5328201f1"
   }
  }
 },
 "nbformat": 4,
 "nbformat_minor": 2
}
